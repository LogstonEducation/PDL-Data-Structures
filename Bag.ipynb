{
 "cells": [
  {
   "cell_type": "markdown",
   "id": "b60cc9f5",
   "metadata": {},
   "source": [
    "ADT\n",
    "- Insert.\n",
    "- Remove random element.\n",
    "- No mutations."
   ]
  },
  {
   "cell_type": "code",
   "execution_count": 2,
   "id": "8893363b",
   "metadata": {},
   "outputs": [],
   "source": [
    "class Bag:\n",
    "    def push(self, value):\n",
    "        \"\"\"\n",
    "        Insert value into bag.\n",
    "        \"\"\"\n",
    "\n",
    "    def pop(self):\n",
    "        \"\"\"\n",
    "        Remove and return a random value.\n",
    "        \"\"\""
   ]
  },
  {
   "cell_type": "markdown",
   "id": "bb9c00fb",
   "metadata": {},
   "source": [
    "Left for student. \n",
    "\n",
    "Hint: Try an array based implementation and use the random library."
   ]
  },
  {
   "cell_type": "code",
   "execution_count": null,
   "id": "dd0a10d5",
   "metadata": {},
   "outputs": [],
   "source": []
  }
 ],
 "metadata": {
  "kernelspec": {
   "display_name": "Python 3 (ipykernel)",
   "language": "python",
   "name": "python3"
  },
  "language_info": {
   "codemirror_mode": {
    "name": "ipython",
    "version": 3
   },
   "file_extension": ".py",
   "mimetype": "text/x-python",
   "name": "python",
   "nbconvert_exporter": "python",
   "pygments_lexer": "ipython3",
   "version": "3.9.13"
  }
 },
 "nbformat": 4,
 "nbformat_minor": 5
}
