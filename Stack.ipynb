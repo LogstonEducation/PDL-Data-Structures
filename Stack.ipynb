{
 "cells": [
  {
   "cell_type": "markdown",
   "id": "9c56c181",
   "metadata": {},
   "source": [
    "Draw a stack on white board.\n",
    "\n",
    "LIFO\n",
    "\n",
    "ADT\n",
    "- Insert/Remove/Read only at top.\n",
    "- No mutations."
   ]
  },
  {
   "cell_type": "code",
   "execution_count": null,
   "id": "a2e80099",
   "metadata": {},
   "outputs": [],
   "source": [
    "class Stack:\n",
    "    def push(self, value):\n",
    "        \"\"\"\n",
    "        Insert value at top of stack.\n",
    "        \"\"\"\n",
    "\n",
    "    def pop(self):\n",
    "        \"\"\"\n",
    "        Remove and return value at top of stack.\n",
    "        \"\"\""
   ]
  },
  {
   "cell_type": "code",
   "execution_count": null,
   "id": "3cb6eed3",
   "metadata": {},
   "outputs": [],
   "source": [
    "class ArrayStack:\n",
    "    \"\"\"\n",
    "    An array based implementation of a stack.\n",
    "    \"\"\"\n",
    "    def __init__(self):\n",
    "        # Let's pretend that a Python list is an array\n",
    "        # and can not change size dynamically.\n",
    "        self.array = []\n",
    "        # Number of elements in array.\n",
    "        self.size = 0\n",
    "    \n",
    "    def push(self, value):\n",
    "        \"\"\"\n",
    "        Insert value at top of stack.\n",
    "        \"\"\"\n",
    "        # We've run out of space in our array!\n",
    "        if self.size >= len(self.array):\n",
    "            self._resize_array()\n",
    "        self.array[self.size] = value\n",
    "        self.size += 1\n",
    "\n",
    "    def pop(self):\n",
    "        \"\"\"\n",
    "        Remove and return value at top of stack.\n",
    "        \"\"\"\n",
    "        self.size -= 1\n",
    "        # Notice we don't free the extra space. This is very common.\n",
    "        return self.array[self.size]\n",
    "    \n",
    "    def _resize_array(self):\n",
    "        # Double the size of the array.\n",
    "        new_size = len(self.array) * 2 if len(self.array) else 1\n",
    "        new_array = [None for _ in range(new_size)]\n",
    "        \n",
    "        # Copy items over to new array.\n",
    "        for i in range(len(self.array)):\n",
    "            new_array[i] = self.array[i]\n",
    "            \n",
    "        self.array = new_array\n",
    "    \n",
    "    def __repr__(self):\n",
    "        s = 'bottom | '\n",
    "        for i in range(self.size):\n",
    "            s += str(self.array[i])\n",
    "            s += ' | '\n",
    "        s += 'top'\n",
    "        return s"
   ]
  },
  {
   "cell_type": "code",
   "execution_count": null,
   "id": "d3bcaec5",
   "metadata": {},
   "outputs": [],
   "source": [
    "s = ArrayStack()\n",
    "s"
   ]
  },
  {
   "cell_type": "code",
   "execution_count": null,
   "id": "abe28f6a",
   "metadata": {},
   "outputs": [],
   "source": [
    "s.push(1)"
   ]
  },
  {
   "cell_type": "code",
   "execution_count": null,
   "id": "98dd125f",
   "metadata": {},
   "outputs": [],
   "source": [
    "s.pop()"
   ]
  },
  {
   "cell_type": "code",
   "execution_count": null,
   "id": "0474972e",
   "metadata": {},
   "outputs": [],
   "source": [
    "s.push(1)\n",
    "s.push(2)\n",
    "s.push(True)\n",
    "s"
   ]
  },
  {
   "cell_type": "code",
   "execution_count": null,
   "id": "3c82f34f",
   "metadata": {},
   "outputs": [],
   "source": [
    "s.pop()"
   ]
  },
  {
   "cell_type": "code",
   "execution_count": null,
   "id": "7018dc63",
   "metadata": {},
   "outputs": [],
   "source": [
    "s.pop()"
   ]
  },
  {
   "cell_type": "code",
   "execution_count": null,
   "id": "021099b8",
   "metadata": {},
   "outputs": [],
   "source": [
    "s.pop()"
   ]
  },
  {
   "cell_type": "code",
   "execution_count": null,
   "id": "eae1c5c8",
   "metadata": {},
   "outputs": [],
   "source": [
    "# But the stack is empty!\n",
    "len(s.array)"
   ]
  },
  {
   "cell_type": "code",
   "execution_count": null,
   "id": "efd666db",
   "metadata": {},
   "outputs": [],
   "source": [
    "s.size"
   ]
  },
  {
   "cell_type": "code",
   "execution_count": null,
   "id": "0558220b",
   "metadata": {},
   "outputs": [],
   "source": [
    "class Node:\n",
    "    \"\"\"\n",
    "    A class for storing values in a linked list.\n",
    "    \"\"\"\n",
    "    def __init__(self, value, next=None):\n",
    "        self.value = value\n",
    "        self.next = next\n",
    "            \n",
    "class LinkedListStack:\n",
    "    \"\"\"\n",
    "    A linked list based implementation of a stack.\n",
    "    \"\"\"\n",
    "    \n",
    "    def __init__(self):\n",
    "        self.top = None\n",
    "    \n",
    "    def push(self, value):\n",
    "        \"\"\"\n",
    "        Insert value at top of stack.\n",
    "        \"\"\"\n",
    "        self.top = Node(value, next=self.top)\n",
    "\n",
    "    def pop(self):\n",
    "        \"\"\"\n",
    "        Remove and return value at top of stack.\n",
    "        \"\"\"\n",
    "        node = self.top\n",
    "        \n",
    "        self.top = node.next\n",
    "        \n",
    "        return node.value\n",
    "    \n",
    "    def __repr__(self):\n",
    "        node = self.top\n",
    "        \n",
    "        s = 'top -> '\n",
    "        while node:\n",
    "            s += str(node.value)\n",
    "            s += ' -> '\n",
    "            node = node.next\n",
    "        s += 'bottom'\n",
    "        return s"
   ]
  },
  {
   "cell_type": "code",
   "execution_count": null,
   "id": "986a8522",
   "metadata": {},
   "outputs": [],
   "source": [
    "s = LinkedListStack()\n",
    "s"
   ]
  },
  {
   "cell_type": "code",
   "execution_count": null,
   "id": "08188c8e",
   "metadata": {},
   "outputs": [],
   "source": [
    "s.push(1)\n",
    "s.push(2)\n",
    "s.push(True)\n",
    "s"
   ]
  },
  {
   "cell_type": "code",
   "execution_count": null,
   "id": "cc467aaf",
   "metadata": {},
   "outputs": [],
   "source": [
    "s.pop()"
   ]
  },
  {
   "cell_type": "code",
   "execution_count": null,
   "id": "c87e5ef7",
   "metadata": {},
   "outputs": [],
   "source": [
    "s.pop()"
   ]
  },
  {
   "cell_type": "code",
   "execution_count": null,
   "id": "feb9a850",
   "metadata": {},
   "outputs": [],
   "source": [
    "s.pop()"
   ]
  },
  {
   "cell_type": "code",
   "execution_count": null,
   "id": "a6bf99f7-d2b2-44a5-a7c7-7c69aee12747",
   "metadata": {},
   "outputs": [],
   "source": []
  }
 ],
 "metadata": {
  "kernelspec": {
   "display_name": "Python 3 (ipykernel)",
   "language": "python",
   "name": "python3"
  },
  "language_info": {
   "codemirror_mode": {
    "name": "ipython",
    "version": 3
   },
   "file_extension": ".py",
   "mimetype": "text/x-python",
   "name": "python",
   "nbconvert_exporter": "python",
   "pygments_lexer": "ipython3",
   "version": "3.11.4"
  }
 },
 "nbformat": 4,
 "nbformat_minor": 5
}
