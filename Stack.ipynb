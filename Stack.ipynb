{
 "cells": [
  {
   "cell_type": "markdown",
   "id": "9c56c181",
   "metadata": {},
   "source": [
    "Draw a stack on white board.\n",
    "\n",
    "LIFO\n",
    "\n",
    "ADT\n",
    "- Insert/Remove/Read only at top.\n",
    "- No mutations."
   ]
  },
  {
   "cell_type": "code",
   "execution_count": 101,
   "id": "a2e80099",
   "metadata": {},
   "outputs": [],
   "source": [
    "class Stack:\n",
    "    def push(self, value):\n",
    "        \"\"\"\n",
    "        Insert value at top of stack.\n",
    "        \"\"\"\n",
    "\n",
    "    def pop(self):\n",
    "        \"\"\"\n",
    "        Remove and return value at top of stack.\n",
    "        \"\"\""
   ]
  },
  {
   "cell_type": "code",
   "execution_count": 102,
   "id": "3cb6eed3",
   "metadata": {},
   "outputs": [],
   "source": [
    "class ArrayStack:\n",
    "    \"\"\"\n",
    "    An array based implementation of a stack.\n",
    "    \"\"\"\n",
    "    def __init__(self):\n",
    "        # Let's pretend that a Python list is an array\n",
    "        # and can not change size dynamically.\n",
    "        self.array = []\n",
    "        # Number of elements in array.\n",
    "        self.size = 0\n",
    "    \n",
    "    def push(self, value):\n",
    "        \"\"\"\n",
    "        Insert value at top of stack.\n",
    "        \"\"\"\n",
    "        # We've run out of space in our array!\n",
    "        if self.size >= len(self.array):\n",
    "            self._resize_array()\n",
    "        self.array[self.size] = value\n",
    "        self.size += 1\n",
    "\n",
    "    def pop(self):\n",
    "        \"\"\"\n",
    "        Remove and return value at top of stack.\n",
    "        \"\"\"\n",
    "        self.size -= 1\n",
    "        return self.array[self.size]\n",
    "    \n",
    "    def _resize_array(self):\n",
    "        # Double the size of the array.\n",
    "        new_size = len(self.array) * 2 if len(self.array) else 1\n",
    "        new_array = [None for _ in range(new_size)]\n",
    "        \n",
    "        # Copy items over to new array.\n",
    "        for i in range(len(self.array)):\n",
    "            new_array[i] = self.array[i]\n",
    "            \n",
    "        self.array = new_array\n",
    "    \n",
    "    def __repr__(self):\n",
    "        s = 'bottom | '\n",
    "        for i in range(self.size):\n",
    "            s += str(self.array[i])\n",
    "            s += ' | '\n",
    "        s += 'top'\n",
    "        return s"
   ]
  },
  {
   "cell_type": "code",
   "execution_count": 103,
   "id": "d3bcaec5",
   "metadata": {},
   "outputs": [
    {
     "data": {
      "text/plain": [
       "bottom | top"
      ]
     },
     "execution_count": 103,
     "metadata": {},
     "output_type": "execute_result"
    }
   ],
   "source": [
    "s = ArrayStack()\n",
    "s"
   ]
  },
  {
   "cell_type": "code",
   "execution_count": 104,
   "id": "abe28f6a",
   "metadata": {},
   "outputs": [],
   "source": [
    "s.push(1)"
   ]
  },
  {
   "cell_type": "code",
   "execution_count": 105,
   "id": "98dd125f",
   "metadata": {},
   "outputs": [
    {
     "data": {
      "text/plain": [
       "1"
      ]
     },
     "execution_count": 105,
     "metadata": {},
     "output_type": "execute_result"
    }
   ],
   "source": [
    "s.pop()"
   ]
  },
  {
   "cell_type": "code",
   "execution_count": 106,
   "id": "0474972e",
   "metadata": {},
   "outputs": [
    {
     "data": {
      "text/plain": [
       "bottom | 1 | 2 | True | top"
      ]
     },
     "execution_count": 106,
     "metadata": {},
     "output_type": "execute_result"
    }
   ],
   "source": [
    "s.push(1)\n",
    "s.push(2)\n",
    "s.push(True)\n",
    "s"
   ]
  },
  {
   "cell_type": "code",
   "execution_count": 107,
   "id": "3c82f34f",
   "metadata": {},
   "outputs": [
    {
     "data": {
      "text/plain": [
       "True"
      ]
     },
     "execution_count": 107,
     "metadata": {},
     "output_type": "execute_result"
    }
   ],
   "source": [
    "s.pop()"
   ]
  },
  {
   "cell_type": "code",
   "execution_count": 108,
   "id": "7018dc63",
   "metadata": {},
   "outputs": [
    {
     "data": {
      "text/plain": [
       "2"
      ]
     },
     "execution_count": 108,
     "metadata": {},
     "output_type": "execute_result"
    }
   ],
   "source": [
    "s.pop()"
   ]
  },
  {
   "cell_type": "code",
   "execution_count": 109,
   "id": "021099b8",
   "metadata": {},
   "outputs": [
    {
     "data": {
      "text/plain": [
       "1"
      ]
     },
     "execution_count": 109,
     "metadata": {},
     "output_type": "execute_result"
    }
   ],
   "source": [
    "s.pop()"
   ]
  },
  {
   "cell_type": "code",
   "execution_count": 110,
   "id": "eae1c5c8",
   "metadata": {},
   "outputs": [
    {
     "data": {
      "text/plain": [
       "4"
      ]
     },
     "execution_count": 110,
     "metadata": {},
     "output_type": "execute_result"
    }
   ],
   "source": [
    "# But the stack is empty!\n",
    "len(s.array)"
   ]
  },
  {
   "cell_type": "code",
   "execution_count": 111,
   "id": "efd666db",
   "metadata": {},
   "outputs": [
    {
     "data": {
      "text/plain": [
       "0"
      ]
     },
     "execution_count": 111,
     "metadata": {},
     "output_type": "execute_result"
    }
   ],
   "source": [
    "s.size"
   ]
  },
  {
   "cell_type": "code",
   "execution_count": 112,
   "id": "0558220b",
   "metadata": {},
   "outputs": [],
   "source": [
    "class Node:\n",
    "    \"\"\"\n",
    "    A class for storing values in a linked list.\n",
    "    \"\"\"\n",
    "    def __init__(self, value, next=None):\n",
    "        self.value = value\n",
    "        self.next = next\n",
    "            \n",
    "class LinkedListStack:\n",
    "    \"\"\"\n",
    "    A linked list based implementation of a stack.\n",
    "    \"\"\"\n",
    "    \n",
    "    def __init__(self):\n",
    "        self.top = None\n",
    "    \n",
    "    def push(self, value):\n",
    "        \"\"\"\n",
    "        Insert value at top of stack.\n",
    "        \"\"\"\n",
    "        self.top = Node(value, next=self.top)\n",
    "\n",
    "    def pop(self):\n",
    "        \"\"\"\n",
    "        Remove and return value at top of stack.\n",
    "        \"\"\"\n",
    "        node = self.top\n",
    "        \n",
    "        self.top = node.next\n",
    "        \n",
    "        return node.value\n",
    "    \n",
    "    def __repr__(self):\n",
    "        node = self.top\n",
    "        \n",
    "        s = 'top -> '\n",
    "        while node:\n",
    "            s += str(node.value)\n",
    "            s += ' -> '\n",
    "            node = node.next\n",
    "        s += 'bottom'\n",
    "        return s"
   ]
  },
  {
   "cell_type": "code",
   "execution_count": 113,
   "id": "986a8522",
   "metadata": {},
   "outputs": [
    {
     "data": {
      "text/plain": [
       "top -> bottom"
      ]
     },
     "execution_count": 113,
     "metadata": {},
     "output_type": "execute_result"
    }
   ],
   "source": [
    "s = LinkedListStack()\n",
    "s"
   ]
  },
  {
   "cell_type": "code",
   "execution_count": 114,
   "id": "08188c8e",
   "metadata": {},
   "outputs": [
    {
     "data": {
      "text/plain": [
       "top -> True -> 2 -> 1 -> bottom"
      ]
     },
     "execution_count": 114,
     "metadata": {},
     "output_type": "execute_result"
    }
   ],
   "source": [
    "s.push(1)\n",
    "s.push(2)\n",
    "s.push(True)\n",
    "s"
   ]
  },
  {
   "cell_type": "code",
   "execution_count": 115,
   "id": "cc467aaf",
   "metadata": {},
   "outputs": [
    {
     "data": {
      "text/plain": [
       "True"
      ]
     },
     "execution_count": 115,
     "metadata": {},
     "output_type": "execute_result"
    }
   ],
   "source": [
    "s.pop()"
   ]
  },
  {
   "cell_type": "code",
   "execution_count": 116,
   "id": "c87e5ef7",
   "metadata": {},
   "outputs": [
    {
     "data": {
      "text/plain": [
       "2"
      ]
     },
     "execution_count": 116,
     "metadata": {},
     "output_type": "execute_result"
    }
   ],
   "source": [
    "s.pop()"
   ]
  },
  {
   "cell_type": "code",
   "execution_count": 117,
   "id": "feb9a850",
   "metadata": {},
   "outputs": [
    {
     "data": {
      "text/plain": [
       "1"
      ]
     },
     "execution_count": 117,
     "metadata": {},
     "output_type": "execute_result"
    }
   ],
   "source": [
    "s.pop()"
   ]
  },
  {
   "cell_type": "code",
   "execution_count": null,
   "id": "2f8e9354",
   "metadata": {},
   "outputs": [],
   "source": []
  }
 ],
 "metadata": {
  "kernelspec": {
   "display_name": "Python 3 (ipykernel)",
   "language": "python",
   "name": "python3"
  },
  "language_info": {
   "codemirror_mode": {
    "name": "ipython",
    "version": 3
   },
   "file_extension": ".py",
   "mimetype": "text/x-python",
   "name": "python",
   "nbconvert_exporter": "python",
   "pygments_lexer": "ipython3",
   "version": "3.9.13"
  }
 },
 "nbformat": 4,
 "nbformat_minor": 5
}
