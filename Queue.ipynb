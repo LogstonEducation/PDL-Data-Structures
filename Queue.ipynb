{
 "cells": [
  {
   "cell_type": "markdown",
   "id": "7cd1a564",
   "metadata": {},
   "source": [
    "Draw a queue on white board.\n",
    "\n",
    "FIFO\n",
    "\n",
    "ADT\n",
    "- Insert at tail.\n",
    "- Read and pop from head.\n",
    "- No mutations."
   ]
  },
  {
   "cell_type": "code",
   "execution_count": null,
   "id": "9c752626",
   "metadata": {},
   "outputs": [],
   "source": [
    "class Queue:\n",
    "    def push(self, value):\n",
    "        \"\"\"\n",
    "        Insert value at tail of queue.\n",
    "        \"\"\"\n",
    "\n",
    "    def pop(self):\n",
    "        \"\"\"\n",
    "        Remove and return value at head of queue.\n",
    "        \"\"\""
   ]
  },
  {
   "cell_type": "code",
   "execution_count": null,
   "id": "a2bd873e",
   "metadata": {},
   "outputs": [],
   "source": [
    "class Node:\n",
    "    \"\"\"\n",
    "    A class for storing values in a linked list.\n",
    "    \"\"\"\n",
    "    def __init__(self, value, next=None):\n",
    "        self.value = value\n",
    "        self.next = next\n",
    "            \n",
    "class LinkedListQueue:\n",
    "    \"\"\"\n",
    "    A linked list based implementation of a queue.\n",
    "    \"\"\"\n",
    "    \n",
    "    def __init__(self):\n",
    "        self.head = None\n",
    "        self.tail = None\n",
    "    \n",
    "    def push(self, value):\n",
    "        \"\"\"\n",
    "        Insert value at tail of queue.\n",
    "        \"\"\"\n",
    "        node = Node(value)\n",
    "        \n",
    "        # Update tail node if one exists.\n",
    "        if self.tail:\n",
    "            self.tail.next = node\n",
    "        \n",
    "        self.tail = node\n",
    "        \n",
    "        # Adding to an empty queue, need to also set head.\n",
    "        if not self.head:\n",
    "            self.head = node\n",
    "            \n",
    "    def pop(self):\n",
    "        \"\"\"\n",
    "        Remove and return value at head of queue.\n",
    "        \"\"\"\n",
    "        node = self.head\n",
    "        \n",
    "        self.head = node.next\n",
    "        \n",
    "        if node == self.tail:\n",
    "            self.tail = None\n",
    "        \n",
    "        return node.value\n",
    "    \n",
    "    def __repr__(self):\n",
    "        node = self.head\n",
    "        \n",
    "        s = 'head -> '\n",
    "        while node:\n",
    "            s += str(node.value)\n",
    "            s += ' -> '\n",
    "            node = node.next\n",
    "        s += 'tail'\n",
    "        return s"
   ]
  },
  {
   "cell_type": "code",
   "execution_count": null,
   "id": "d22185f8",
   "metadata": {},
   "outputs": [],
   "source": [
    "q = LinkedListQueue()\n",
    "q"
   ]
  },
  {
   "cell_type": "code",
   "execution_count": null,
   "id": "e0889c07",
   "metadata": {},
   "outputs": [],
   "source": [
    "q.push(1)\n",
    "q"
   ]
  },
  {
   "cell_type": "code",
   "execution_count": null,
   "id": "6f80986d",
   "metadata": {},
   "outputs": [],
   "source": [
    "q.push(2)\n",
    "q.push(True)\n",
    "q"
   ]
  },
  {
   "cell_type": "code",
   "execution_count": null,
   "id": "d9e57944",
   "metadata": {},
   "outputs": [],
   "source": [
    "q.pop()"
   ]
  },
  {
   "cell_type": "code",
   "execution_count": null,
   "id": "78d46bb4",
   "metadata": {},
   "outputs": [],
   "source": [
    "q.pop()"
   ]
  },
  {
   "cell_type": "code",
   "execution_count": null,
   "id": "8b9d1a33",
   "metadata": {},
   "outputs": [],
   "source": [
    "q.pop()"
   ]
  },
  {
   "cell_type": "code",
   "execution_count": null,
   "id": "f4b1e963",
   "metadata": {},
   "outputs": [],
   "source": [
    "q.pop()"
   ]
  }
 ],
 "metadata": {
  "kernelspec": {
   "display_name": "Python 3 (ipykernel)",
   "language": "python",
   "name": "python3"
  },
  "language_info": {
   "codemirror_mode": {
    "name": "ipython",
    "version": 3
   },
   "file_extension": ".py",
   "mimetype": "text/x-python",
   "name": "python",
   "nbconvert_exporter": "python",
   "pygments_lexer": "ipython3",
   "version": "3.9.13"
  }
 },
 "nbformat": 4,
 "nbformat_minor": 5
}
