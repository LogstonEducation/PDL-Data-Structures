{
 "cells": [
  {
   "cell_type": "markdown",
   "id": "7cd1a564",
   "metadata": {},
   "source": [
    "Draw a queue on white board.\n",
    "\n",
    "FIFO\n",
    "\n",
    "ADT\n",
    "- Insert at tail.\n",
    "- Read and pop from head.\n",
    "- No mutations."
   ]
  },
  {
   "cell_type": "code",
   "execution_count": 1,
   "id": "9c752626",
   "metadata": {},
   "outputs": [],
   "source": [
    "class Queue:\n",
    "    def push(self, value):\n",
    "        \"\"\"\n",
    "        Insert value at tail of queue.\n",
    "        \"\"\"\n",
    "\n",
    "    def pop(self):\n",
    "        \"\"\"\n",
    "        Remove and return value at head of queue.\n",
    "        \"\"\""
   ]
  },
  {
   "cell_type": "code",
   "execution_count": 3,
   "id": "a2bd873e",
   "metadata": {},
   "outputs": [],
   "source": [
    "class Node:\n",
    "    \"\"\"\n",
    "    A class for storing values in a linked list.\n",
    "    \"\"\"\n",
    "    def __init__(self, value, next=None):\n",
    "        self.value = value\n",
    "        self.next = next\n",
    "\n",
    "\n",
    "class LinkedListQueue:\n",
    "    \"\"\"\n",
    "    A linked list based implementation of a queue.\n",
    "    \"\"\"\n",
    "    \n",
    "    def __init__(self):\n",
    "        self.head = None\n",
    "        self.tail = None\n",
    "    \n",
    "    def push(self, value):\n",
    "        \"\"\"\n",
    "        Insert value at tail of queue.\n",
    "        \"\"\"\n",
    "        node = Node(value)\n",
    "        \n",
    "        # Update tail node if one exists.\n",
    "        if self.tail:\n",
    "            self.tail.next = node\n",
    "        \n",
    "        self.tail = node\n",
    "        \n",
    "        # Adding to an empty queue, need to also set head.\n",
    "        if not self.head:\n",
    "            self.head = node\n",
    "            \n",
    "    def pop(self):\n",
    "        \"\"\"\n",
    "        Remove and return value at head of queue.\n",
    "        \"\"\"\n",
    "        node = self.head\n",
    "        \n",
    "        self.head = node.next\n",
    "        \n",
    "        if node == self.tail:\n",
    "            self.tail = None\n",
    "        \n",
    "        return node.value\n",
    "    \n",
    "    def __repr__(self):\n",
    "        node = self.head\n",
    "        \n",
    "        s = 'head -> '\n",
    "        while node:\n",
    "            s += str(node.value)\n",
    "            s += ' -> '\n",
    "            node = node.next\n",
    "        s += 'tail'\n",
    "        return s"
   ]
  },
  {
   "cell_type": "code",
   "execution_count": 4,
   "id": "d22185f8",
   "metadata": {},
   "outputs": [
    {
     "data": {
      "text/plain": [
       "head -> tail"
      ]
     },
     "execution_count": 4,
     "metadata": {},
     "output_type": "execute_result"
    }
   ],
   "source": [
    "q = LinkedListQueue()\n",
    "q"
   ]
  },
  {
   "cell_type": "code",
   "execution_count": 5,
   "id": "e0889c07",
   "metadata": {},
   "outputs": [
    {
     "data": {
      "text/plain": [
       "head -> 1 -> tail"
      ]
     },
     "execution_count": 5,
     "metadata": {},
     "output_type": "execute_result"
    }
   ],
   "source": [
    "q.push(1)\n",
    "q"
   ]
  },
  {
   "cell_type": "code",
   "execution_count": 6,
   "id": "6f80986d",
   "metadata": {},
   "outputs": [
    {
     "data": {
      "text/plain": [
       "head -> 1 -> 2 -> True -> tail"
      ]
     },
     "execution_count": 6,
     "metadata": {},
     "output_type": "execute_result"
    }
   ],
   "source": [
    "q.push(2)\n",
    "q.push(True)\n",
    "q"
   ]
  },
  {
   "cell_type": "code",
   "execution_count": 7,
   "id": "d9e57944",
   "metadata": {},
   "outputs": [
    {
     "data": {
      "text/plain": [
       "1"
      ]
     },
     "execution_count": 7,
     "metadata": {},
     "output_type": "execute_result"
    }
   ],
   "source": [
    "q.pop()"
   ]
  },
  {
   "cell_type": "code",
   "execution_count": 8,
   "id": "78d46bb4",
   "metadata": {},
   "outputs": [
    {
     "data": {
      "text/plain": [
       "2"
      ]
     },
     "execution_count": 8,
     "metadata": {},
     "output_type": "execute_result"
    }
   ],
   "source": [
    "q.pop()"
   ]
  },
  {
   "cell_type": "code",
   "execution_count": 9,
   "id": "8b9d1a33",
   "metadata": {},
   "outputs": [
    {
     "data": {
      "text/plain": [
       "True"
      ]
     },
     "execution_count": 9,
     "metadata": {},
     "output_type": "execute_result"
    }
   ],
   "source": [
    "q.pop()"
   ]
  },
  {
   "cell_type": "code",
   "execution_count": 10,
   "id": "f4b1e963",
   "metadata": {},
   "outputs": [
    {
     "ename": "AttributeError",
     "evalue": "'NoneType' object has no attribute 'next'",
     "output_type": "error",
     "traceback": [
      "\u001b[0;31m---------------------------------------------------------------------------\u001b[0m",
      "\u001b[0;31mAttributeError\u001b[0m                            Traceback (most recent call last)",
      "Cell \u001b[0;32mIn[10], line 1\u001b[0m\n\u001b[0;32m----> 1\u001b[0m q\u001b[38;5;241m.\u001b[39mpop()\n",
      "Cell \u001b[0;32mIn[3], line 41\u001b[0m, in \u001b[0;36mLinkedListQueue.pop\u001b[0;34m(self)\u001b[0m\n\u001b[1;32m     36\u001b[0m \u001b[38;5;250m\u001b[39m\u001b[38;5;124;03m\"\"\"\u001b[39;00m\n\u001b[1;32m     37\u001b[0m \u001b[38;5;124;03mRemove and return value at head of queue.\u001b[39;00m\n\u001b[1;32m     38\u001b[0m \u001b[38;5;124;03m\"\"\"\u001b[39;00m\n\u001b[1;32m     39\u001b[0m node \u001b[38;5;241m=\u001b[39m \u001b[38;5;28mself\u001b[39m\u001b[38;5;241m.\u001b[39mhead\n\u001b[0;32m---> 41\u001b[0m \u001b[38;5;28mself\u001b[39m\u001b[38;5;241m.\u001b[39mhead \u001b[38;5;241m=\u001b[39m node\u001b[38;5;241m.\u001b[39mnext\n\u001b[1;32m     43\u001b[0m \u001b[38;5;28;01mif\u001b[39;00m node \u001b[38;5;241m==\u001b[39m \u001b[38;5;28mself\u001b[39m\u001b[38;5;241m.\u001b[39mtail:\n\u001b[1;32m     44\u001b[0m     \u001b[38;5;28mself\u001b[39m\u001b[38;5;241m.\u001b[39mtail \u001b[38;5;241m=\u001b[39m \u001b[38;5;28;01mNone\u001b[39;00m\n",
      "\u001b[0;31mAttributeError\u001b[0m: 'NoneType' object has no attribute 'next'"
     ]
    }
   ],
   "source": [
    "q.pop()"
   ]
  },
  {
   "cell_type": "code",
   "execution_count": null,
   "id": "ac77c974-e105-48c3-bebe-0607ced4ecf0",
   "metadata": {},
   "outputs": [],
   "source": []
  }
 ],
 "metadata": {
  "kernelspec": {
   "display_name": "Python 3 (ipykernel)",
   "language": "python",
   "name": "python3"
  },
  "language_info": {
   "codemirror_mode": {
    "name": "ipython",
    "version": 3
   },
   "file_extension": ".py",
   "mimetype": "text/x-python",
   "name": "python",
   "nbconvert_exporter": "python",
   "pygments_lexer": "ipython3",
   "version": "3.11.4"
  }
 },
 "nbformat": 4,
 "nbformat_minor": 5
}
