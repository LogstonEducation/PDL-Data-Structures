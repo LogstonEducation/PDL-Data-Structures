{
 "cells": [
  {
   "cell_type": "code",
   "execution_count": 1,
   "id": "2317cb87-7404-4a7f-ab57-1ff3b8b39e2f",
   "metadata": {},
   "outputs": [],
   "source": [
    "list_ = [1, 2, 3]\n",
    "\n",
    "var2 = \"hello\""
   ]
  },
  {
   "cell_type": "code",
   "execution_count": null,
   "id": "6e250968-c627-4de4-b03e-0c0b41892779",
   "metadata": {},
   "outputs": [],
   "source": [
    "append\n",
    "pop\n",
    "\n",
    "index\n",
    "\n",
    "splice "
   ]
  },
  {
   "cell_type": "code",
   "execution_count": 2,
   "id": "6c0ce13c-90f0-4011-b9f1-02cf0c83c29d",
   "metadata": {},
   "outputs": [
    {
     "data": {
      "text/plain": [
       "[1, 2, 3, 4]"
      ]
     },
     "execution_count": 2,
     "metadata": {},
     "output_type": "execute_result"
    }
   ],
   "source": [
    "list_.append(4)\n",
    "list_"
   ]
  },
  {
   "cell_type": "code",
   "execution_count": 3,
   "id": "f5a04864-6b3c-44d0-9003-fb094c468662",
   "metadata": {},
   "outputs": [
    {
     "data": {
      "text/plain": [
       "4"
      ]
     },
     "execution_count": 3,
     "metadata": {},
     "output_type": "execute_result"
    }
   ],
   "source": [
    "list_.pop()"
   ]
  },
  {
   "cell_type": "code",
   "execution_count": 4,
   "id": "fb9bf353-2547-4e61-a2ff-db8035ea82f6",
   "metadata": {},
   "outputs": [
    {
     "data": {
      "text/plain": [
       "[1, 2, 3]"
      ]
     },
     "execution_count": 4,
     "metadata": {},
     "output_type": "execute_result"
    }
   ],
   "source": [
    "list_"
   ]
  },
  {
   "cell_type": "markdown",
   "id": "edce64c0-5438-4d05-841c-924e55fbbd01",
   "metadata": {},
   "source": [
    "ListADT:\n",
    "    - append\n",
    "    - pop\n",
    "    - index\n",
    "    - update"
   ]
  },
  {
   "cell_type": "code",
   "execution_count": null,
   "id": "6cc6fefb-21cb-423f-8e6d-b0f9a7b22a96",
   "metadata": {},
   "outputs": [],
   "source": [
    "StackADT:\n",
    "    - pop\n",
    "    - push"
   ]
  },
  {
   "cell_type": "code",
   "execution_count": 14,
   "id": "e2b072f3-e7fe-49d1-862b-b04902f972c6",
   "metadata": {},
   "outputs": [],
   "source": [
    "class ArrayStack:\n",
    "    def __init__(self): \n",
    "        self.array = []\n",
    "        self.items_stored = 0\n",
    "\n",
    "    def push(self, item):\n",
    "        if len(self.array) == self.items_stored:\n",
    "            self._resize_array()\n",
    "        \n",
    "        self.array[self.items_stored] = item\n",
    "\n",
    "        self.items_stored += 1\n",
    "\n",
    "    def _resize_array(self):\n",
    "        new_size = len(self.array) * 2 if len(self.array) else 1\n",
    "        new_array = [None for _ in range(new_size)]\n",
    "\n",
    "        for i in range(len(self.array)):\n",
    "            new_array[i] = self.array[i]\n",
    "\n",
    "        self.array = new_array\n",
    "\n",
    "    def pop(self) -> 'item':\n",
    "        self.items_stored -= 1\n",
    "        return self.array[self.items_stored]"
   ]
  },
  {
   "cell_type": "code",
   "execution_count": 22,
   "id": "da14eaf8-7764-479c-8d76-f5a641eb7e9d",
   "metadata": {},
   "outputs": [],
   "source": [
    "a = ArrayStack()\n",
    "a.push(1)\n",
    "a.push(2)\n",
    "a.push(3)"
   ]
  },
  {
   "cell_type": "code",
   "execution_count": 25,
   "id": "ba5b1645-9549-4d77-ac83-5e84e9ca015b",
   "metadata": {},
   "outputs": [
    {
     "data": {
      "text/plain": [
       "1"
      ]
     },
     "execution_count": 25,
     "metadata": {},
     "output_type": "execute_result"
    }
   ],
   "source": [
    "a.pop()"
   ]
  },
  {
   "cell_type": "code",
   "execution_count": 27,
   "id": "842eb332-80c9-427e-9fa0-60c40b20bffe",
   "metadata": {},
   "outputs": [],
   "source": [
    "class Node:\n",
    "    def __init__(self, value, next=None):\n",
    "        self.value = value\n",
    "        self.next = next\n",
    "\n",
    "class LinkedListStack:\n",
    "    def __init__(self):\n",
    "        self.top = None\n",
    "\n",
    "    def push(self, item):\n",
    "        self.top = Node(item, next=self.top)\n",
    "\n",
    "    def pop(self) -> 'item':\n",
    "        # get top item\n",
    "        node = self.top\n",
    "        # reset top to second item\n",
    "        self.top = node.next\n",
    "        # return top item\n",
    "        return node.value"
   ]
  },
  {
   "cell_type": "code",
   "execution_count": 28,
   "id": "12ec33fa-5f34-4f2f-9142-acb1ba31150d",
   "metadata": {},
   "outputs": [],
   "source": [
    "ll = LinkedListStack()\n",
    "ll.push(1)\n",
    "ll.push(2)\n",
    "ll.push(3)"
   ]
  },
  {
   "cell_type": "code",
   "execution_count": 32,
   "id": "683c2261-d56c-4908-9af5-f140e21529b7",
   "metadata": {},
   "outputs": [
    {
     "ename": "AttributeError",
     "evalue": "'NoneType' object has no attribute 'next'",
     "output_type": "error",
     "traceback": [
      "\u001b[0;31m---------------------------------------------------------------------------\u001b[0m",
      "\u001b[0;31mAttributeError\u001b[0m                            Traceback (most recent call last)",
      "Cell \u001b[0;32mIn[32], line 1\u001b[0m\n\u001b[0;32m----> 1\u001b[0m ll\u001b[38;5;241m.\u001b[39mpop()\n",
      "Cell \u001b[0;32mIn[27], line 17\u001b[0m, in \u001b[0;36mLinkedListStack.pop\u001b[0;34m(self)\u001b[0m\n\u001b[1;32m     15\u001b[0m node \u001b[38;5;241m=\u001b[39m \u001b[38;5;28mself\u001b[39m\u001b[38;5;241m.\u001b[39mtop\n\u001b[1;32m     16\u001b[0m \u001b[38;5;66;03m# reset top to second item\u001b[39;00m\n\u001b[0;32m---> 17\u001b[0m \u001b[38;5;28mself\u001b[39m\u001b[38;5;241m.\u001b[39mtop \u001b[38;5;241m=\u001b[39m node\u001b[38;5;241m.\u001b[39mnext\n\u001b[1;32m     18\u001b[0m \u001b[38;5;66;03m# return top item\u001b[39;00m\n\u001b[1;32m     19\u001b[0m \u001b[38;5;28;01mreturn\u001b[39;00m node\u001b[38;5;241m.\u001b[39mvalue\n",
      "\u001b[0;31mAttributeError\u001b[0m: 'NoneType' object has no attribute 'next'"
     ]
    }
   ],
   "source": [
    "ll.pop()"
   ]
  },
  {
   "cell_type": "code",
   "execution_count": null,
   "id": "4490dde5-c8a6-4d31-afcc-73e14c6815f0",
   "metadata": {},
   "outputs": [],
   "source": []
  }
 ],
 "metadata": {
  "kernelspec": {
   "display_name": "Python 3 (ipykernel)",
   "language": "python",
   "name": "python3"
  },
  "language_info": {
   "codemirror_mode": {
    "name": "ipython",
    "version": 3
   },
   "file_extension": ".py",
   "mimetype": "text/x-python",
   "name": "python",
   "nbconvert_exporter": "python",
   "pygments_lexer": "ipython3",
   "version": "3.11.4"
  }
 },
 "nbformat": 4,
 "nbformat_minor": 5
}
