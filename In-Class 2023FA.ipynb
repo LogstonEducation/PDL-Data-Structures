{
 "cells": [
  {
   "cell_type": "code",
   "execution_count": 2,
   "id": "c816354a-2c90-4b67-8808-30a51b9df840",
   "metadata": {},
   "outputs": [
    {
     "data": {
      "text/plain": [
       "[]"
      ]
     },
     "execution_count": 2,
     "metadata": {},
     "output_type": "execute_result"
    }
   ],
   "source": [
    "list()"
   ]
  },
  {
   "cell_type": "code",
   "execution_count": 3,
   "id": "1b0f1eaf-e39e-4bdb-ab00-3ad40964e7be",
   "metadata": {},
   "outputs": [
    {
     "data": {
      "text/plain": [
       "[1, 2, 3]"
      ]
     },
     "execution_count": 3,
     "metadata": {},
     "output_type": "execute_result"
    }
   ],
   "source": [
    "[1, 2, 3]"
   ]
  },
  {
   "cell_type": "code",
   "execution_count": 4,
   "id": "effed8ea-245b-41d2-a4e0-819eca871f55",
   "metadata": {},
   "outputs": [
    {
     "data": {
      "text/plain": [
       "3"
      ]
     },
     "execution_count": 4,
     "metadata": {},
     "output_type": "execute_result"
    }
   ],
   "source": [
    "[1, 2, 3].pop()"
   ]
  },
  {
   "cell_type": "code",
   "execution_count": 9,
   "id": "8d183dc6-29b2-44b8-a80e-1c6bfe6c101a",
   "metadata": {},
   "outputs": [
    {
     "data": {
      "text/plain": [
       "[1, 2, 3, 4]"
      ]
     },
     "execution_count": 9,
     "metadata": {},
     "output_type": "execute_result"
    }
   ],
   "source": [
    "l = [1, 2, 3]\n",
    "l.append(4)\n",
    "l"
   ]
  },
  {
   "cell_type": "code",
   "execution_count": null,
   "id": "6b9f9af5-f54c-40d0-8b04-0218990ee44b",
   "metadata": {},
   "outputs": [],
   "source": [
    "class ListADT:\n",
    "    def insert(self, pos, x):\n",
    "        raise NotImplementedError()\n",
    "\n",
    "    def remove(self, pos):\n",
    "        pass\n",
    "\n",
    "    def update(self, pos, x):\n",
    "        pass\n",
    "\n",
    "    def read(self, pos):\n",
    "        pass"
   ]
  },
  {
   "cell_type": "markdown",
   "id": "0c2f4a44-aded-473e-80ca-e6a7235d9f8c",
   "metadata": {},
   "source": [
    "- Stack\n",
    "- Queue"
   ]
  },
  {
   "cell_type": "code",
   "execution_count": null,
   "id": "16b66587-83c7-4464-a49e-3146d5acdcc1",
   "metadata": {},
   "outputs": [],
   "source": [
    "class StackADT:\n",
    "    \"\"\"\n",
    "    Can not randomly accessed\n",
    "    Can only access a specific book. \n",
    "    \"\"\"\n",
    "    def pop(self):\n",
    "        return 'top item'\n",
    "\n",
    "    def push(self, x):\n",
    "        # save item to top"
   ]
  },
  {
   "cell_type": "code",
   "execution_count": 14,
   "id": "216d9814-1a40-4564-b5ba-01fdf8ddc0dc",
   "metadata": {},
   "outputs": [
    {
     "data": {
      "text/plain": [
       "[None, 'a', None]"
      ]
     },
     "execution_count": 14,
     "metadata": {},
     "output_type": "execute_result"
    }
   ],
   "source": [
    "l = [None, None, None]\n",
    "l[1] = 'a'\n",
    "l"
   ]
  },
  {
   "cell_type": "code",
   "execution_count": 48,
   "id": "67e0828c-d25e-486f-a738-c1ed4fbc23cd",
   "metadata": {},
   "outputs": [],
   "source": [
    "class ArrayStack:\n",
    "    def __init__(self):\n",
    "        # The array is supposed to be representative of a block of real memory.\n",
    "        self._array = [None] * 4\n",
    "        self.size = 0\n",
    "\n",
    "    def pop(self):\n",
    "        self.size -= 1\n",
    "        v = self._array[self.size] \n",
    "        self._array[self.size] = None\n",
    "        return v\n",
    "\n",
    "    def push(self, x):\n",
    "        if len(self._array) == self.size:\n",
    "            self._resize()\n",
    "\n",
    "        self._array[self.size] = x\n",
    "        self.size += 1\n",
    "\n",
    "    def _resize(self):\n",
    "        self._array = self._array + [None]*len(self._array)\n",
    "        \n",
    "        # find current size\n",
    "        # resize to some greater multiple of current size\n",
    "        new_array = [None] * (len(self._array) * 2)\n",
    "        # copy things over\n",
    "        for i, item in enumerate(self._array):\n",
    "            new_array[i] = item\n",
    "        self._array = new_array"
   ]
  },
  {
   "cell_type": "code",
   "execution_count": 46,
   "id": "6d3ede80-0418-4c99-a24f-56b0a956a385",
   "metadata": {},
   "outputs": [],
   "source": [
    "array_stack = ArrayStack()\n",
    "array_stack.push(1)\n",
    "array_stack.push(2)\n",
    "array_stack.push(3)\n",
    "array_stack.push(4)\n",
    "array_stack.push(5)"
   ]
  },
  {
   "cell_type": "code",
   "execution_count": 47,
   "id": "724070a6-ad47-4d6a-82d8-82e5ecf75e96",
   "metadata": {},
   "outputs": [],
   "source": [
    "array_stack.push(5)"
   ]
  },
  {
   "cell_type": "code",
   "execution_count": null,
   "id": "a35f3e37-da40-4176-9dd1-6e349a8e0849",
   "metadata": {},
   "outputs": [],
   "source": []
  },
  {
   "cell_type": "code",
   "execution_count": 45,
   "id": "fcd05e85-d6b9-429d-9432-1caa4a5920d9",
   "metadata": {},
   "outputs": [
    {
     "name": "stdout",
     "output_type": "stream",
     "text": [
      "5\n",
      "4\n",
      "3\n",
      "2\n",
      "1\n",
      "None\n",
      "None\n",
      "None\n",
      "None\n",
      "None\n",
      "None\n",
      "None\n",
      "None\n"
     ]
    },
    {
     "ename": "IndexError",
     "evalue": "list index out of range",
     "output_type": "error",
     "traceback": [
      "\u001b[0;31m---------------------------------------------------------------------------\u001b[0m",
      "\u001b[0;31mIndexError\u001b[0m                                Traceback (most recent call last)",
      "Cell \u001b[0;32mIn[45], line 2\u001b[0m\n\u001b[1;32m      1\u001b[0m \u001b[38;5;28;01mwhile\u001b[39;00m \u001b[38;5;28;01mTrue\u001b[39;00m:\n\u001b[0;32m----> 2\u001b[0m     \u001b[38;5;28mprint\u001b[39m(array_stack\u001b[38;5;241m.\u001b[39mpop())\n",
      "Cell \u001b[0;32mIn[38], line 8\u001b[0m, in \u001b[0;36mArrayStack.pop\u001b[0;34m(self)\u001b[0m\n\u001b[1;32m      6\u001b[0m \u001b[38;5;28;01mdef\u001b[39;00m \u001b[38;5;21mpop\u001b[39m(\u001b[38;5;28mself\u001b[39m):\n\u001b[1;32m      7\u001b[0m     \u001b[38;5;28mself\u001b[39m\u001b[38;5;241m.\u001b[39msize \u001b[38;5;241m-\u001b[39m\u001b[38;5;241m=\u001b[39m \u001b[38;5;241m1\u001b[39m\n\u001b[0;32m----> 8\u001b[0m     v \u001b[38;5;241m=\u001b[39m \u001b[38;5;28mself\u001b[39m\u001b[38;5;241m.\u001b[39m_array[\u001b[38;5;28mself\u001b[39m\u001b[38;5;241m.\u001b[39msize] \n\u001b[1;32m      9\u001b[0m     \u001b[38;5;28mself\u001b[39m\u001b[38;5;241m.\u001b[39m_array[\u001b[38;5;28mself\u001b[39m\u001b[38;5;241m.\u001b[39msize] \u001b[38;5;241m=\u001b[39m \u001b[38;5;28;01mNone\u001b[39;00m\n\u001b[1;32m     10\u001b[0m     \u001b[38;5;28;01mreturn\u001b[39;00m v\n",
      "\u001b[0;31mIndexError\u001b[0m: list index out of range"
     ]
    }
   ],
   "source": [
    "while True:\n",
    "    print(array_stack.pop())"
   ]
  },
  {
   "cell_type": "code",
   "execution_count": 11,
   "id": "2ac70111-7ad6-48fb-ad41-a718e1ce5e58",
   "metadata": {},
   "outputs": [],
   "source": [
    "class LLNode:\n",
    "    def __init__(self, value, next=None):\n",
    "        self.value = value\n",
    "        self.next = next\n",
    "\n",
    "\n",
    "a = LLNode('a')\n",
    "b = LLNode('b', next=a)\n",
    "\n",
    "\n",
    "class LinkedListStack:\n",
    "    pass"
   ]
  },
  {
   "cell_type": "code",
   "execution_count": 62,
   "id": "d07e1aeb-8de2-4bf0-92ab-033363b0a09c",
   "metadata": {},
   "outputs": [],
   "source": [
    "class LinkedListQueue:\n",
    "    \"\"\"\n",
    "    Long line in store.\n",
    "    First in, first out. \n",
    "    \"\"\"\n",
    "    def __init__(self):\n",
    "        self.head = None\n",
    "        self.tail = None\n",
    "    \n",
    "    def push(self, x):\n",
    "        \"\"\"\n",
    "        Add to one end of the queue.\n",
    "        \"\"\"\n",
    "        n = LLNode(x)\n",
    "        if self.head is None:\n",
    "            self.head = n\n",
    "            self.tail = n\n",
    "            return\n",
    "\n",
    "        self.tail.next = n\n",
    "        self.tail = n\n",
    "\n",
    "    def pop(self):\n",
    "        \"\"\"\n",
    "        Remove and return from the other end of the queue.\n",
    "        \"\"\"\n",
    "        if self.head is None:\n",
    "            raise ValueError(f'{self.__class__.__name__} is empty')\n",
    "\n",
    "        n = self.head\n",
    "        self.head = self.head.next\n",
    "\n",
    "        if self.head is None:\n",
    "            self.tail = None\n",
    "\n",
    "        return n.value"
   ]
  },
  {
   "cell_type": "code",
   "execution_count": 63,
   "id": "50243175-a658-4877-b973-660749bd3333",
   "metadata": {},
   "outputs": [],
   "source": [
    "llq = LinkedListQueue()\n",
    "llq.push(1)\n",
    "llq.push(2)\n",
    "llq.push(3)"
   ]
  },
  {
   "cell_type": "code",
   "execution_count": 64,
   "id": "6a895059-1f16-4343-a13d-766513285368",
   "metadata": {},
   "outputs": [
    {
     "name": "stdout",
     "output_type": "stream",
     "text": [
      "1\n",
      "2\n",
      "3\n"
     ]
    },
    {
     "ename": "ValueError",
     "evalue": "LinkedListQueue is empty",
     "output_type": "error",
     "traceback": [
      "\u001b[0;31m---------------------------------------------------------------------------\u001b[0m",
      "\u001b[0;31mValueError\u001b[0m                                Traceback (most recent call last)",
      "Cell \u001b[0;32mIn[64], line 2\u001b[0m\n\u001b[1;32m      1\u001b[0m \u001b[38;5;28;01mwhile\u001b[39;00m \u001b[38;5;28;01mTrue\u001b[39;00m:\n\u001b[0;32m----> 2\u001b[0m     \u001b[38;5;28mprint\u001b[39m(llq\u001b[38;5;241m.\u001b[39mpop())\n",
      "Cell \u001b[0;32mIn[62], line 28\u001b[0m, in \u001b[0;36mLinkedListQueue.pop\u001b[0;34m(self)\u001b[0m\n\u001b[1;32m     24\u001b[0m \u001b[38;5;250m\u001b[39m\u001b[38;5;124;03m\"\"\"\u001b[39;00m\n\u001b[1;32m     25\u001b[0m \u001b[38;5;124;03mRemove and return from the other end of the queue.\u001b[39;00m\n\u001b[1;32m     26\u001b[0m \u001b[38;5;124;03m\"\"\"\u001b[39;00m\n\u001b[1;32m     27\u001b[0m \u001b[38;5;28;01mif\u001b[39;00m \u001b[38;5;28mself\u001b[39m\u001b[38;5;241m.\u001b[39mhead \u001b[38;5;129;01mis\u001b[39;00m \u001b[38;5;28;01mNone\u001b[39;00m:\n\u001b[0;32m---> 28\u001b[0m     \u001b[38;5;28;01mraise\u001b[39;00m \u001b[38;5;167;01mValueError\u001b[39;00m(\u001b[38;5;124mf\u001b[39m\u001b[38;5;124m'\u001b[39m\u001b[38;5;132;01m{\u001b[39;00m\u001b[38;5;28mself\u001b[39m\u001b[38;5;241m.\u001b[39m\u001b[38;5;18m__class__\u001b[39m\u001b[38;5;241m.\u001b[39m\u001b[38;5;18m__name__\u001b[39m\u001b[38;5;132;01m}\u001b[39;00m\u001b[38;5;124m is empty\u001b[39m\u001b[38;5;124m'\u001b[39m)\n\u001b[1;32m     30\u001b[0m n \u001b[38;5;241m=\u001b[39m \u001b[38;5;28mself\u001b[39m\u001b[38;5;241m.\u001b[39mhead\n\u001b[1;32m     31\u001b[0m \u001b[38;5;28mself\u001b[39m\u001b[38;5;241m.\u001b[39mhead \u001b[38;5;241m=\u001b[39m \u001b[38;5;28mself\u001b[39m\u001b[38;5;241m.\u001b[39mhead\u001b[38;5;241m.\u001b[39mnext\n",
      "\u001b[0;31mValueError\u001b[0m: LinkedListQueue is empty"
     ]
    }
   ],
   "source": [
    "while True:\n",
    "    print(llq.pop())"
   ]
  },
  {
   "cell_type": "code",
   "execution_count": 57,
   "id": "d54f41dc-ead5-48c6-a43d-ce20ebd68b48",
   "metadata": {},
   "outputs": [],
   "source": [
    "llq.head"
   ]
  },
  {
   "cell_type": "code",
   "execution_count": 58,
   "id": "029c2f1d-f5f5-4a7f-a546-7d99fbd89254",
   "metadata": {},
   "outputs": [
    {
     "data": {
      "text/plain": [
       "<__main__.LLNode at 0x114af12d0>"
      ]
     },
     "execution_count": 58,
     "metadata": {},
     "output_type": "execute_result"
    }
   ],
   "source": [
    "llq.tail "
   ]
  },
  {
   "cell_type": "code",
   "execution_count": null,
   "id": "35eab236-38a8-449f-ac2d-2a130fc67391",
   "metadata": {},
   "outputs": [],
   "source": [
    "# Cost for arrays?\n",
    "# - 0.1% of an array in use!\n",
    "# Benefits?\n",
    "# - Can be quick for that extra i+1 unit of memory.\n",
    "\n",
    "\n",
    "# Costs for linked lists?\n",
    "# - Go to OS for that extra little chunk, that can take time.\n",
    "# Benefits?\n",
    "# - Very efficient use of memory\n",
    "# - And of available space."
   ]
  }
 ],
 "metadata": {
  "kernelspec": {
   "display_name": "Python 3 (ipykernel)",
   "language": "python",
   "name": "python3"
  },
  "language_info": {
   "codemirror_mode": {
    "name": "ipython",
    "version": 3
   },
   "file_extension": ".py",
   "mimetype": "text/x-python",
   "name": "python",
   "nbconvert_exporter": "python",
   "pygments_lexer": "ipython3",
   "version": "3.11.4"
  }
 },
 "nbformat": 4,
 "nbformat_minor": 5
}
