{
 "cells": [
  {
   "cell_type": "code",
   "execution_count": 3,
   "id": "b8de4d97-0ebb-4037-95c2-346ae8bbb357",
   "metadata": {},
   "outputs": [],
   "source": [
    "class AbstractStack:\n",
    "    def push(self, value):\n",
    "        \"\"\"\n",
    "        Insert\n",
    "        \"\"\"\n",
    "        raise NotImplemented()\n",
    "    \n",
    "    def pop(self) -> 'value':\n",
    "        \"\"\"\n",
    "        Hand back value\n",
    "        \"\"\"\n",
    "        raise NotImplemented()"
   ]
  },
  {
   "cell_type": "code",
   "execution_count": 4,
   "id": "2159c569-f20a-4b69-844b-6a5fd9b3372b",
   "metadata": {},
   "outputs": [
    {
     "ename": "ValueError",
     "evalue": "1",
     "output_type": "error",
     "traceback": [
      "\u001b[0;31m---------------------------------------------------------------------------\u001b[0m",
      "\u001b[0;31mValueError\u001b[0m                                Traceback (most recent call last)",
      "Cell \u001b[0;32mIn[4], line 1\u001b[0m\n\u001b[0;32m----> 1\u001b[0m \u001b[38;5;28;01mraise\u001b[39;00m \u001b[38;5;167;01mValueError\u001b[39;00m(\u001b[38;5;241m1\u001b[39m)\n",
      "\u001b[0;31mValueError\u001b[0m: 1"
     ]
    }
   ],
   "source": [
    "raise ValueError(1) "
   ]
  },
  {
   "cell_type": "code",
   "execution_count": 46,
   "id": "3dc72420-7890-47a5-afbd-97fe4ee9c2ed",
   "metadata": {},
   "outputs": [],
   "source": [
    "class ArrayStack(AbstractStack):\n",
    "    def __init__(self, size):\n",
    "        self._array = [0] * size\n",
    "        self._index = 0\n",
    "\n",
    "    def push(self, value):\n",
    "        if self._index >= len(self._array):\n",
    "            raise ValueError('Out of space in array!')\n",
    "        self._array[self._index] = value\n",
    "        self._index += 1\n",
    "\n",
    "    def pop(self) -> 'value':\n",
    "        value = self._array[self._index - 1]\n",
    "        self._array[self._index - 1] = None\n",
    "        self._index -= 1\n",
    "        return value"
   ]
  },
  {
   "cell_type": "code",
   "execution_count": 47,
   "id": "1ee9cb89-1d6b-4aac-8499-ab26fbb9b844",
   "metadata": {},
   "outputs": [],
   "source": [
    "s = ArrayStack(2)"
   ]
  },
  {
   "cell_type": "code",
   "execution_count": 48,
   "id": "130ea4ce-a420-4609-b5f5-1ff9e1996b60",
   "metadata": {},
   "outputs": [],
   "source": [
    "s.push(\"a\")"
   ]
  },
  {
   "cell_type": "code",
   "execution_count": 51,
   "id": "a02da218-1131-492e-b503-64ba405c8708",
   "metadata": {},
   "outputs": [
    {
     "data": {
      "text/plain": [
       "[None, None]"
      ]
     },
     "execution_count": 51,
     "metadata": {},
     "output_type": "execute_result"
    }
   ],
   "source": [
    "s._array"
   ]
  },
  {
   "cell_type": "code",
   "execution_count": 50,
   "id": "71fa10db-dead-4822-9c8f-4cfa297e6707",
   "metadata": {},
   "outputs": [
    {
     "data": {
      "text/plain": [
       "'a'"
      ]
     },
     "execution_count": 50,
     "metadata": {},
     "output_type": "execute_result"
    }
   ],
   "source": [
    "s.pop()"
   ]
  },
  {
   "cell_type": "code",
   "execution_count": 81,
   "id": "e139a9dd-b781-43e8-9f7f-b3d7f0cf9957",
   "metadata": {},
   "outputs": [],
   "source": [
    "class Node:\n",
    "    def __init__(self, value, next=None):\n",
    "        self.value = value\n",
    "        self.next = next\n",
    "\n",
    "    def __repr__(self) -> str:\n",
    "        return f'<Node: {self.value}>'\n",
    "\n",
    "\n",
    "class LinkedListStack(AbstractStack):\n",
    "    def __init__(self):\n",
    "        self._head = None\n",
    "\n",
    "    def push(self, value): \n",
    "        new_node = Node(value)\n",
    "\n",
    "        if self._head is None:\n",
    "            self._head = new_node\n",
    "            return\n",
    "\n",
    "        last_node = self._head\n",
    "        while last_node.next:\n",
    "            last_node = last_node.next\n",
    "\n",
    "        last_node.next = new_node\n",
    "        \n",
    "    def pop(self) -> 'value':\n",
    "        last_node = self._head\n",
    "\n",
    "        if self._head is None:\n",
    "            raise ValueError('Nothing in stack!')\n",
    "\n",
    "        if self._head.next is None:\n",
    "            value = self._head\n",
    "            self._head = None\n",
    "            return value.value\n",
    "\n",
    "        prev_node = None\n",
    "        while last_node.next:\n",
    "            prev_node = last_node\n",
    "            last_node = last_node.next\n",
    "\n",
    "        if prev_node:\n",
    "            prev_node.next = None\n",
    "            \n",
    "        return last_node.value"
   ]
  },
  {
   "cell_type": "code",
   "execution_count": 82,
   "id": "283f7ce9-7cf0-4ea8-91a2-36a66aff8db1",
   "metadata": {},
   "outputs": [],
   "source": [
    "s = LinkedListStack()\n",
    "s._head"
   ]
  },
  {
   "cell_type": "code",
   "execution_count": 83,
   "id": "4ae85221-6a8a-41c8-80f7-655e35ec0cff",
   "metadata": {},
   "outputs": [],
   "source": [
    "s.push(\"a\")\n",
    "s.push(\"b\")\n",
    "s.push(\"c\")"
   ]
  },
  {
   "cell_type": "code",
   "execution_count": 84,
   "id": "31185ea9-7473-4dab-89f4-b1701eacf8cc",
   "metadata": {},
   "outputs": [],
   "source": [
    "s._head.next.next.next"
   ]
  },
  {
   "cell_type": "code",
   "execution_count": 88,
   "id": "67c3bd8f-c000-4690-95c6-3a886fc8eab5",
   "metadata": {},
   "outputs": [
    {
     "ename": "ValueError",
     "evalue": "Nothing in stack!",
     "output_type": "error",
     "traceback": [
      "\u001b[0;31m---------------------------------------------------------------------------\u001b[0m",
      "\u001b[0;31mValueError\u001b[0m                                Traceback (most recent call last)",
      "Cell \u001b[0;32mIn[88], line 1\u001b[0m\n\u001b[0;32m----> 1\u001b[0m s\u001b[38;5;241m.\u001b[39mpop()\n",
      "Cell \u001b[0;32mIn[81], line 31\u001b[0m, in \u001b[0;36mLinkedListStack.pop\u001b[0;34m(self)\u001b[0m\n\u001b[1;32m     28\u001b[0m last_node \u001b[38;5;241m=\u001b[39m \u001b[38;5;28mself\u001b[39m\u001b[38;5;241m.\u001b[39m_head\n\u001b[1;32m     30\u001b[0m \u001b[38;5;28;01mif\u001b[39;00m \u001b[38;5;28mself\u001b[39m\u001b[38;5;241m.\u001b[39m_head \u001b[38;5;129;01mis\u001b[39;00m \u001b[38;5;28;01mNone\u001b[39;00m:\n\u001b[0;32m---> 31\u001b[0m     \u001b[38;5;28;01mraise\u001b[39;00m \u001b[38;5;167;01mValueError\u001b[39;00m(\u001b[38;5;124m'\u001b[39m\u001b[38;5;124mNothing in stack!\u001b[39m\u001b[38;5;124m'\u001b[39m)\n\u001b[1;32m     33\u001b[0m \u001b[38;5;28;01mif\u001b[39;00m \u001b[38;5;28mself\u001b[39m\u001b[38;5;241m.\u001b[39m_head\u001b[38;5;241m.\u001b[39mnext \u001b[38;5;129;01mis\u001b[39;00m \u001b[38;5;28;01mNone\u001b[39;00m:\n\u001b[1;32m     34\u001b[0m     value \u001b[38;5;241m=\u001b[39m \u001b[38;5;28mself\u001b[39m\u001b[38;5;241m.\u001b[39m_head\n",
      "\u001b[0;31mValueError\u001b[0m: Nothing in stack!"
     ]
    }
   ],
   "source": [
    "s.pop()"
   ]
  },
  {
   "cell_type": "code",
   "execution_count": null,
   "id": "fe498217-56fd-40e9-bb0f-67dee3fd3f2e",
   "metadata": {},
   "outputs": [],
   "source": []
  }
 ],
 "metadata": {
  "kernelspec": {
   "display_name": "Python 3 (ipykernel)",
   "language": "python",
   "name": "python3"
  },
  "language_info": {
   "codemirror_mode": {
    "name": "ipython",
    "version": 3
   },
   "file_extension": ".py",
   "mimetype": "text/x-python",
   "name": "python",
   "nbconvert_exporter": "python",
   "pygments_lexer": "ipython3",
   "version": "3.11.4"
  }
 },
 "nbformat": 4,
 "nbformat_minor": 5
}
