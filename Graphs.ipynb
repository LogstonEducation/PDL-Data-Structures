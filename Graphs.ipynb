{
 "cells": [
  {
   "cell_type": "markdown",
   "id": "e2274159",
   "metadata": {},
   "source": [
    "Draw graph on white board.\n",
    "\n",
    "How can we represent this in code? "
   ]
  },
  {
   "cell_type": "code",
   "execution_count": 1,
   "id": "5bca204a",
   "metadata": {},
   "outputs": [],
   "source": [
    "class Node:\n",
    "    \"\"\"\n",
    "    A class for storing values in a graph. Specifically a binary tree.\n",
    "    \"\"\"\n",
    "    def __init__(self, value, left=None, right=None):\n",
    "        self.value = value\n",
    "        self.left = left\n",
    "        self.right = right   "
   ]
  },
  {
   "cell_type": "code",
   "execution_count": 2,
   "id": "d8a21733",
   "metadata": {},
   "outputs": [],
   "source": [
    "root = Node('a')"
   ]
  },
  {
   "cell_type": "code",
   "execution_count": 3,
   "id": "b88cfb86",
   "metadata": {},
   "outputs": [],
   "source": [
    "root.left = Node('b')\n",
    "root.right = Node('c')"
   ]
  },
  {
   "cell_type": "code",
   "execution_count": 4,
   "id": "b12beb5e",
   "metadata": {},
   "outputs": [],
   "source": [
    "root.left.left = Node('d')\n",
    "root.left.right = Node('e')\n",
    "\n",
    "root.right.left = Node('f')\n",
    "root.right.right = Node('g')"
   ]
  },
  {
   "cell_type": "code",
   "execution_count": 5,
   "id": "eebba8c9",
   "metadata": {},
   "outputs": [
    {
     "data": {
      "text/plain": [
       "<__main__.Node at 0x107f8bf10>"
      ]
     },
     "execution_count": 5,
     "metadata": {},
     "output_type": "execute_result"
    }
   ],
   "source": [
    "root"
   ]
  },
  {
   "cell_type": "markdown",
   "id": "fbbc498b",
   "metadata": {},
   "source": [
    "How can we print this?"
   ]
  },
  {
   "cell_type": "code",
   "execution_count": 6,
   "id": "f41c80c4",
   "metadata": {},
   "outputs": [],
   "source": [
    "class LinkedListQueue:\n",
    "    \"\"\"\n",
    "    Same code from Queue notebook.\n",
    "    \"\"\"\n",
    "    class Node:\n",
    "        def __init__(self, value, next=None):\n",
    "            self.value = value\n",
    "            self.next = next\n",
    "\n",
    "    def __init__(self):\n",
    "        self.head = None\n",
    "        self.tail = None\n",
    "    \n",
    "    def push(self, value):\n",
    "        node = self.Node(value)\n",
    "        if self.tail:\n",
    "            self.tail.next = node\n",
    "        self.tail = node\n",
    "        if not self.head:\n",
    "            self.head = node\n",
    "            \n",
    "    def pop(self):\n",
    "        node = self.head\n",
    "        self.head = node.next\n",
    "        if node == self.tail:\n",
    "            self.tail = None\n",
    "        return node.value\n",
    "    \n",
    "    def is_empty(self):\n",
    "        return self.head is None"
   ]
  },
  {
   "cell_type": "code",
   "execution_count": 7,
   "id": "f5429ab1",
   "metadata": {},
   "outputs": [],
   "source": [
    "def print_tree(node):\n",
    "    queue = LinkedListQueue()\n",
    "    queue.push(node)\n",
    "    \n",
    "    while not queue.is_empty():\n",
    "        node = queue.pop()\n",
    "        \n",
    "        if node.left:\n",
    "            queue.push(node.left)\n",
    "        \n",
    "        if node.right:\n",
    "            queue.push(node.right)\n",
    "\n",
    "        print(node.value)"
   ]
  },
  {
   "cell_type": "code",
   "execution_count": 8,
   "id": "cd472f7c",
   "metadata": {},
   "outputs": [
    {
     "name": "stdout",
     "output_type": "stream",
     "text": [
      "a\n",
      "b\n",
      "c\n",
      "d\n",
      "e\n",
      "f\n",
      "g\n"
     ]
    }
   ],
   "source": [
    "print_tree(root)"
   ]
  },
  {
   "cell_type": "code",
   "execution_count": 9,
   "id": "90eb76bb",
   "metadata": {},
   "outputs": [],
   "source": [
    "def print_tree_with_vert_levels(node):\n",
    "    queue = LinkedListQueue()\n",
    "    queue.push((node, 0))\n",
    "    \n",
    "    while not queue.is_empty():\n",
    "        node, level = queue.pop()\n",
    "        \n",
    "        if node.left:\n",
    "            queue.push((node.left, level + 1))\n",
    "        \n",
    "        if node.right:\n",
    "            queue.push((node.right, level + 1))\n",
    "\n",
    "        print(level * '    ', node.value)"
   ]
  },
  {
   "cell_type": "code",
   "execution_count": 10,
   "id": "37aa7146",
   "metadata": {},
   "outputs": [
    {
     "name": "stdout",
     "output_type": "stream",
     "text": [
      " a\n",
      "     b\n",
      "     c\n",
      "         d\n",
      "         e\n",
      "         f\n",
      "         g\n"
     ]
    }
   ],
   "source": [
    "print_tree_with_vert_levels(root)"
   ]
  },
  {
   "cell_type": "code",
   "execution_count": 11,
   "id": "5ae744c3",
   "metadata": {},
   "outputs": [],
   "source": [
    "def print_tree_with_horz_levels(node):\n",
    "    queue = LinkedListQueue()\n",
    "    queue.push((node, 0))\n",
    "    \n",
    "    current_level = 0\n",
    "    while not queue.is_empty():\n",
    "        node, level = queue.pop()\n",
    "        \n",
    "        if current_level != level:\n",
    "            print()  # Add new line when we see a new level.\n",
    "            current_level = level\n",
    "        \n",
    "        if node.left:\n",
    "            queue.push((node.left, level + 1))\n",
    "        \n",
    "        if node.right:\n",
    "            queue.push((node.right, level + 1))\n",
    "\n",
    "        print(node.value, end='    ')"
   ]
  },
  {
   "cell_type": "code",
   "execution_count": 12,
   "id": "4bc20a04",
   "metadata": {},
   "outputs": [
    {
     "name": "stdout",
     "output_type": "stream",
     "text": [
      "a    \n",
      "b    c    \n",
      "d    e    f    g    "
     ]
    }
   ],
   "source": [
    "print_tree_with_horz_levels(root)"
   ]
  },
  {
   "cell_type": "code",
   "execution_count": 13,
   "id": "d290edcd",
   "metadata": {},
   "outputs": [],
   "source": [
    "def depth_first_print(node, level):\n",
    "    print(level * '  ', node.value)\n",
    "    if node.left:\n",
    "        dfs(node.left, level + 1)  # DFS left for student.\n",
    "    if node.right:\n",
    "        dfs(node.right, level + 1)"
   ]
  },
  {
   "cell_type": "code",
   "execution_count": 14,
   "id": "54f700cf",
   "metadata": {},
   "outputs": [
    {
     "name": "stdout",
     "output_type": "stream",
     "text": [
      " a\n"
     ]
    },
    {
     "ename": "NameError",
     "evalue": "name 'dfs' is not defined",
     "output_type": "error",
     "traceback": [
      "\u001b[0;31m---------------------------------------------------------------------------\u001b[0m",
      "\u001b[0;31mNameError\u001b[0m                                 Traceback (most recent call last)",
      "Cell \u001b[0;32mIn[14], line 1\u001b[0m\n\u001b[0;32m----> 1\u001b[0m depth_first_print(root, \u001b[38;5;241m0\u001b[39m)\n",
      "Cell \u001b[0;32mIn[13], line 4\u001b[0m, in \u001b[0;36mdepth_first_print\u001b[0;34m(node, level)\u001b[0m\n\u001b[1;32m      2\u001b[0m \u001b[38;5;28mprint\u001b[39m(level \u001b[38;5;241m*\u001b[39m \u001b[38;5;124m'\u001b[39m\u001b[38;5;124m  \u001b[39m\u001b[38;5;124m'\u001b[39m, node\u001b[38;5;241m.\u001b[39mvalue)\n\u001b[1;32m      3\u001b[0m \u001b[38;5;28;01mif\u001b[39;00m node\u001b[38;5;241m.\u001b[39mleft:\n\u001b[0;32m----> 4\u001b[0m     dfs(node\u001b[38;5;241m.\u001b[39mleft, level \u001b[38;5;241m+\u001b[39m \u001b[38;5;241m1\u001b[39m)\n\u001b[1;32m      5\u001b[0m \u001b[38;5;28;01mif\u001b[39;00m node\u001b[38;5;241m.\u001b[39mright:\n\u001b[1;32m      6\u001b[0m     dfs(node\u001b[38;5;241m.\u001b[39mright, level \u001b[38;5;241m+\u001b[39m \u001b[38;5;241m1\u001b[39m)\n",
      "\u001b[0;31mNameError\u001b[0m: name 'dfs' is not defined"
     ]
    }
   ],
   "source": [
    "depth_first_print(root, 0)"
   ]
  },
  {
   "cell_type": "code",
   "execution_count": null,
   "id": "8a50dd35-ef86-4477-bde4-4fd11dd45fd4",
   "metadata": {},
   "outputs": [],
   "source": []
  }
 ],
 "metadata": {
  "kernelspec": {
   "display_name": "Python 3 (ipykernel)",
   "language": "python",
   "name": "python3"
  },
  "language_info": {
   "codemirror_mode": {
    "name": "ipython",
    "version": 3
   },
   "file_extension": ".py",
   "mimetype": "text/x-python",
   "name": "python",
   "nbconvert_exporter": "python",
   "pygments_lexer": "ipython3",
   "version": "3.11.4"
  }
 },
 "nbformat": 4,
 "nbformat_minor": 5
}
