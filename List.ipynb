{
 "cells": [
  {
   "cell_type": "markdown",
   "id": "ecea4839",
   "metadata": {},
   "source": [
    "Basic Python Lists"
   ]
  },
  {
   "cell_type": "code",
   "execution_count": 6,
   "id": "c38a434d",
   "metadata": {},
   "outputs": [
    {
     "data": {
      "text/plain": [
       "['a', 'b', True]"
      ]
     },
     "execution_count": 6,
     "metadata": {},
     "output_type": "execute_result"
    }
   ],
   "source": [
    "j = ['a', 'b', True]\n",
    "j"
   ]
  },
  {
   "cell_type": "code",
   "execution_count": 7,
   "id": "92b8793a",
   "metadata": {},
   "outputs": [
    {
     "data": {
      "text/plain": [
       "'a'"
      ]
     },
     "execution_count": 7,
     "metadata": {},
     "output_type": "execute_result"
    }
   ],
   "source": [
    "j[0]"
   ]
  },
  {
   "cell_type": "code",
   "execution_count": 11,
   "id": "29dde9d6",
   "metadata": {},
   "outputs": [
    {
     "data": {
      "text/plain": [
       "True"
      ]
     },
     "execution_count": 11,
     "metadata": {},
     "output_type": "execute_result"
    }
   ],
   "source": [
    "j[1]"
   ]
  },
  {
   "cell_type": "code",
   "execution_count": 9,
   "id": "add42f9d",
   "metadata": {},
   "outputs": [
    {
     "data": {
      "text/plain": [
       "['a', 'b', True, False]"
      ]
     },
     "execution_count": 9,
     "metadata": {},
     "output_type": "execute_result"
    }
   ],
   "source": [
    "j.append(False)\n",
    "j"
   ]
  },
  {
   "cell_type": "code",
   "execution_count": 10,
   "id": "c8f03b92",
   "metadata": {},
   "outputs": [
    {
     "data": {
      "text/plain": [
       "['b', True, False]"
      ]
     },
     "execution_count": 10,
     "metadata": {},
     "output_type": "execute_result"
    }
   ],
   "source": [
    "j.pop(0)\n",
    "j"
   ]
  },
  {
   "cell_type": "code",
   "execution_count": 12,
   "id": "ffceb8b5",
   "metadata": {},
   "outputs": [
    {
     "data": {
      "text/plain": [
       "['c', 'b', True, False]"
      ]
     },
     "execution_count": 12,
     "metadata": {},
     "output_type": "execute_result"
    }
   ],
   "source": [
    "j.insert(0, 'c')\n",
    "j"
   ]
  },
  {
   "cell_type": "code",
   "execution_count": 13,
   "id": "2daf469a",
   "metadata": {},
   "outputs": [
    {
     "data": {
      "text/plain": [
       "['c', 'b', True]"
      ]
     },
     "execution_count": 13,
     "metadata": {},
     "output_type": "execute_result"
    }
   ],
   "source": [
    "j.pop(len(j)-1)\n",
    "j"
   ]
  },
  {
   "cell_type": "markdown",
   "id": "a03298c8",
   "metadata": {},
   "source": [
    "Draw List ADT on white board.\n",
    "\n",
    "ADT\n",
    "- Insert and remove from both ends.\n",
    "- Mutate and read any element in the list."
   ]
  },
  {
   "cell_type": "code",
   "execution_count": 14,
   "id": "26646de7",
   "metadata": {},
   "outputs": [],
   "source": [
    "class List:\n",
    "    def insert(self, position, value):\n",
    "        \"\"\"\n",
    "        Insert value at position in list.\n",
    "        \n",
    "        Move everything in list at postion and after up in index to make space. \n",
    "        \"\"\"\n",
    "    \n",
    "    def remove(self, position):\n",
    "        \"\"\"\n",
    "        Remove value at position in list.\n",
    "\n",
    "        Move everything in list at postion and after down in index to make space.\n",
    "        \"\"\"\n",
    "    \n",
    "    def update(self, position, value):\n",
    "        \"\"\"\n",
    "        Update value at position in list.\n",
    "        \"\"\"\n",
    "\n",
    "    def read(self, position):\n",
    "        \"\"\"\n",
    "        Read value at position in list.\n",
    "        \"\"\""
   ]
  },
  {
   "cell_type": "markdown",
   "id": "1a17bbf6",
   "metadata": {},
   "source": [
    "How would we implement this?\n",
    "- Array\n",
    "    - What if we needed more space at either end?\n",
    "- Linked List\n",
    "    - What if we needed to fetch an item at the middle of a 500 element list? "
   ]
  }
 ],
 "metadata": {
  "kernelspec": {
   "display_name": "Python 3 (ipykernel)",
   "language": "python",
   "name": "python3"
  },
  "language_info": {
   "codemirror_mode": {
    "name": "ipython",
    "version": 3
   },
   "file_extension": ".py",
   "mimetype": "text/x-python",
   "name": "python",
   "nbconvert_exporter": "python",
   "pygments_lexer": "ipython3",
   "version": "3.9.13"
  }
 },
 "nbformat": 4,
 "nbformat_minor": 5
}
